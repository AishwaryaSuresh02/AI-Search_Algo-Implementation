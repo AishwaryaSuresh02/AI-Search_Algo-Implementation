{
 "cells": [
  {
   "cell_type": "code",
   "execution_count": 1,
   "id": "d0295b97",
   "metadata": {},
   "outputs": [],
   "source": [
    "from pyamaze import maze,COLOR,agent\n",
    "import numpy as np\n",
    "import time"
   ]
  },
  {
   "cell_type": "code",
   "execution_count": 2,
   "id": "32f3212e",
   "metadata": {},
   "outputs": [],
   "source": [
    "col_value=20\n",
    "row_vaule=20\n",
    "test_maze=maze(rows=row_vaule,cols=col_value)\n",
    "test_maze.CreateMaze(loopPercent=10)\n",
    "# test_maze.CreateMaze(loadMaze='maze--mul_20_20.csv')\n",
    "test_maze_mapping=test_maze.maze_map"
   ]
  },
  {
   "cell_type": "code",
   "execution_count": 3,
   "id": "d5a940b4",
   "metadata": {},
   "outputs": [],
   "source": [
    "# Retruns a 2d Array With 1 representing path and \n",
    "def get_Matrix_mapping(test_maze):\n",
    "    key_map=dict()\n",
    "    row=test_maze.rows\n",
    "    col=test_maze.cols\n",
    "    maze_mapping = test_maze.maze_map\n",
    "    maze_2d=np.full(((2*(row))-1,(2*(col))-1),-1)\n",
    "    maze_2d=np.pad(maze_2d, 1, mode='constant',constant_values= 1)\n",
    "    row_val_matrix=maze_2d.shape[0]\n",
    "    col_val_matrix=maze_2d.shape[1]\n",
    "    ## Filling Boarders with Walls \n",
    "    for r in range(row_val_matrix):\n",
    "        if(r % 2 !=0):\n",
    "            continue\n",
    "        for c in range(col_val_matrix):\n",
    "                maze_2d[r][c]=1\n",
    "    for c in range(col_val_matrix):\n",
    "        if(c % 2 !=0):\n",
    "            continue\n",
    "        for r in range(row_val_matrix):\n",
    "            maze_2d[r][c]=1\n",
    "    for row_map in range(row):\n",
    "        old_row=row_map+1\n",
    "        new_row=old_row+row_map\n",
    "        for col_map in range (col):\n",
    "            old_col=col_map+1\n",
    "            new_col=old_col+col_map\n",
    "            maze_2d[new_row][new_col]=0\n",
    "            new_points=(new_row,new_col)\n",
    "            old_points=(old_row,old_col)\n",
    "            key_map[new_points]=old_points\n",
    "            if(maze_mapping[(old_row,old_col)][\"W\"]==1):\n",
    "                maze_2d[new_row][(new_col-1)]=0\n",
    "            else:\n",
    "                maze_2d[new_row][(new_col-1)]=1 \n",
    "            if(maze_mapping[(old_row,old_col)][\"E\"]==1):\n",
    "                maze_2d[new_row][(new_col+1)]=0\n",
    "            else:\n",
    "                maze_2d[new_row][(new_col+1)]=1 \n",
    "            if(maze_mapping[(old_row,old_col)][\"N\"]==1):\n",
    "                maze_2d[(new_row-1)][(new_col)]=0\n",
    "            else:\n",
    "                maze_2d[(new_row-1)][(new_col)]=1 \n",
    "            if(maze_mapping[(old_row,old_col)][\"S\"]==1):\n",
    "                maze_2d[(new_row+1)][(new_col)]=0\n",
    "            else:\n",
    "                maze_2d[(new_row+1)][(new_col)]=1\n",
    "    return maze_2d,key_map\n",
    "\n",
    "    "
   ]
  },
  {
   "cell_type": "code",
   "execution_count": 4,
   "id": "a7d394b5",
   "metadata": {},
   "outputs": [],
   "source": [
    "def generate_reward_function(test_maze_2d,row,col):\n",
    "    reward_matrix = np.full(test_maze_2d.shape, 0.0)\n",
    "    reward_matrix[test_maze_2d == 1] = -1.0\n",
    "    reward_matrix[test_maze_2d == 0] = -0.1\n",
    "    #Starting Cell \n",
    "    reward_matrix[1, 1] = -100.0\n",
    "    #Goal Cell\n",
    "    reward_matrix[(2*(row))-1,(2*(col))-1] = 10.0\n",
    "    return reward_matrix"
   ]
  },
  {
   "cell_type": "code",
   "execution_count": 5,
   "id": "8cb86e2c",
   "metadata": {},
   "outputs": [],
   "source": [
    "def mdp_value_iteration(test_maze_2d,row,col,reward_matrix,discount_factor=0.9,tolerance=0.0001):\n",
    "    value_function = np.zeros_like(test_maze_2d, dtype=np.float32)\n",
    "    actions = [(0, 1), (0, -1), (1, 0), (-1, 0)]\n",
    "    max_iterations = 1000\n",
    "    no_iteration=0\n",
    "    # Perform value iteration\n",
    "    for i in range(max_iterations):\n",
    "        no_iteration=no_iteration+1\n",
    "        delta = 0\n",
    "        for x in range(test_maze_2d.shape[0]):\n",
    "            for y in range(test_maze_2d.shape[1]):\n",
    "                if test_maze_2d[x, y] == 1:\n",
    "                    continue\n",
    "                old_value = value_function[x, y]\n",
    "                new_value = -np.inf\n",
    "                for action in actions:\n",
    "                    new_x = x + action[0]\n",
    "                    new_y = y + action[1]\n",
    "                    if 0 <= new_x < test_maze_2d.shape[0] and 0 <= new_y < test_maze_2d.shape[1] and test_maze_2d[new_x, new_y] == 0:\n",
    "                        v = reward_matrix[new_x, new_y] + discount_factor * value_function[new_x, new_y]\n",
    "                        if v > new_value:\n",
    "                            new_value = v\n",
    "                value_function[x, y] = new_value\n",
    "                delta = max(delta, np.abs(old_value - new_value))\n",
    "        if delta < tolerance:\n",
    "            print(\"Done\")\n",
    "            print(\"no_iteration\",no_iteration)\n",
    "            break\n",
    "        # Find the optimal path from start to goal\n",
    "    path = [(1, 1)]\n",
    "    x, y = 1, 1\n",
    "    counter=0\n",
    "    while (x, y) != (row, col):\n",
    "        counter= counter+1\n",
    "        best_value = -np.inf\n",
    "        best_action = None\n",
    "        for action in actions:\n",
    "            new_x = x + action[0]\n",
    "            new_y = y + action[1]\n",
    "            if 0 <= new_x < test_maze_2d.shape[0] and 0 <= new_y < test_maze_2d.shape[1] and test_maze_2d[new_x, new_y] == 0:\n",
    "                v = reward_matrix[new_x, new_y] + discount_factor * value_function[new_x, new_y]\n",
    "                if v > best_value:\n",
    "                    best_value = v\n",
    "                    best_action = action\n",
    "        x += best_action[0]\n",
    "        y += best_action[1]\n",
    "        path.append((x, y))\n",
    "\n",
    "    # Print the optimal path\n",
    "    print(\"Optimal path:\", path)\n",
    "    print(\"counter\",counter)\n",
    "            \n",
    "    return path,counter,no_iteration\n",
    "    "
   ]
  },
  {
   "cell_type": "code",
   "execution_count": 6,
   "id": "49e97fb1",
   "metadata": {
    "scrolled": true
   },
   "outputs": [],
   "source": [
    "#val=mdp_value_iteration(test_maze_2d,test_maze.rows,test_maze.cols,reward_matrix,discount_factor=0.9, tolerance=0.0001)"
   ]
  },
  {
   "cell_type": "code",
   "execution_count": 7,
   "id": "39516548",
   "metadata": {},
   "outputs": [],
   "source": [
    "def map_optimal_path_maze(optimal_path,maze_matrix_key_mapping):\n",
    "    maze_path_val=list()\n",
    "    for ele in optimal_path:\n",
    "        if(ele in maze_matrix_key_mapping):\n",
    "            maze_path_val.append(k[ele])\n",
    "    final_path=dict()\n",
    "    for i in range(1,len(maze_path_val)):\n",
    "        final_path[maze_path_val[i]]=maze_path_val[i-1]\n",
    "    return final_path\n",
    "    \n",
    "    \n",
    "    "
   ]
  },
  {
   "cell_type": "code",
   "execution_count": 8,
   "id": "b1df1f88",
   "metadata": {},
   "outputs": [
    {
     "name": "stdout",
     "output_type": "stream",
     "text": [
      "Done\n",
      "no_iteration 94\n",
      "Optimal path: [(1, 1), (1, 2), (1, 3), (2, 3), (3, 3), (3, 4), (3, 5), (2, 5), (1, 5), (1, 6), (1, 7), (2, 7), (3, 7), (3, 8), (3, 9), (4, 9), (5, 9), (5, 10), (5, 11), (5, 12), (5, 13), (4, 13), (3, 13), (3, 14), (3, 15), (3, 16), (3, 17), (3, 18), (3, 19), (3, 20), (3, 21), (4, 21), (5, 21), (6, 21), (7, 21), (7, 22), (7, 23), (8, 23), (9, 23), (9, 24), (9, 25), (9, 26), (9, 27), (10, 27), (11, 27), (12, 27), (13, 27), (14, 27), (15, 27), (15, 28), (15, 29), (15, 30), (15, 31), (15, 32), (15, 33), (16, 33), (17, 33), (18, 33), (19, 33), (20, 33), (21, 33), (21, 34), (21, 35), (22, 35), (23, 35), (23, 36), (23, 37), (24, 37), (25, 37), (25, 36), (25, 35), (26, 35), (27, 35), (28, 35), (29, 35), (30, 35), (31, 35), (32, 35), (33, 35), (34, 35), (35, 35), (35, 34), (35, 33), (36, 33), (37, 33), (37, 34), (37, 35), (38, 35), (39, 35), (39, 36), (39, 37), (39, 38), (39, 39)]\n",
      "counter 92\n",
      "--- Running Time : 0.7430729866027832 seconds ---\n",
      "lengthpath 46\n"
     ]
    }
   ],
   "source": [
    "test_maze_2d, k=get_Matrix_mapping(test_maze)\n",
    "reward_matrix = generate_reward_function(test_maze_2d,test_maze.rows,test_maze.cols)\n",
    "start_time = time.time()\n",
    "val,counter,no_iteration=mdp_value_iteration(test_maze_2d,((2*(test_maze.rows))-1),((2*(test_maze.cols))-1),reward_matrix,discount_factor=0.9, tolerance=0.0001)\n",
    "exec_time = (time.time() - start_time)\n",
    "print(\"--- Running Time : %s seconds ---\" % exec_time)\n",
    "pt=map_optimal_path_maze(val,k)\n",
    "a=agent(test_maze,footprints=True,color=COLOR.yellow,shape='arrow',filled=True)\n",
    "print(\"lengthpath\",len(pt))\n",
    "test_maze.tracePath({a:pt},delay=50)\n",
    "test_maze.run()\n"
   ]
  },
  {
   "cell_type": "code",
   "execution_count": null,
   "id": "9189fa25",
   "metadata": {},
   "outputs": [],
   "source": []
  },
  {
   "cell_type": "code",
   "execution_count": null,
   "id": "54857a53",
   "metadata": {},
   "outputs": [],
   "source": []
  }
 ],
 "metadata": {
  "kernelspec": {
   "display_name": "Python 3 (ipykernel)",
   "language": "python",
   "name": "python3"
  },
  "language_info": {
   "codemirror_mode": {
    "name": "ipython",
    "version": 3
   },
   "file_extension": ".py",
   "mimetype": "text/x-python",
   "name": "python",
   "nbconvert_exporter": "python",
   "pygments_lexer": "ipython3",
   "version": "3.9.12"
  }
 },
 "nbformat": 4,
 "nbformat_minor": 5
}
