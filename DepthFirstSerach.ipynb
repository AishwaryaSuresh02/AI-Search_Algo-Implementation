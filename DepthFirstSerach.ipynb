{
 "cells": [
  {
   "cell_type": "code",
   "execution_count": 1,
   "id": "ffd47831",
   "metadata": {},
   "outputs": [],
   "source": [
    "\n",
    "from pyamaze import maze,agent,textLabel,COLOR\n",
    "from queue import PriorityQueue\n",
    "import time\n",
    "\n",
    "def DepthFirstSearch(m,start_cell=None):\n",
    "    if start_cell is None:\n",
    "        start_cell=(m.rows,m.cols)\n",
    "    explored_cells=[start_cell]\n",
    "    front_cells=[start_cell]\n",
    "    dfs_Path={}\n",
    "    dfs_Seacrh=[]\n",
    "    while len(front_cells)>0:\n",
    "        curr_Cell=front_cells.pop()\n",
    "        dfs_Seacrh.append(curr_Cell)\n",
    "        if curr_Cell==m._goal:\n",
    "            break\n",
    "        possition=0\n",
    "        for cell_dir in 'WNSE':\n",
    "            if m.maze_map[curr_Cell][cell_dir]==True:\n",
    "                if cell_dir =='N':\n",
    "                        next_cell=(curr_Cell[0]-1,curr_Cell[1])\n",
    "                elif cell_dir =='S':\n",
    "                        next_cell=(curr_Cell[0]+1,curr_Cell[1])\n",
    "                elif cell_dir =='E':\n",
    "                        next_cell=(curr_Cell[0],curr_Cell[1]+1)\n",
    "                elif cell_dir =='W':\n",
    "                        next_cell=(curr_Cell[0],curr_Cell[1]-1)\n",
    "                if next_cell in explored_cells:\n",
    "                        continue\n",
    "                possition+=1\n",
    "                explored_cells.append(next_cell)\n",
    "                front_cells.append(next_cell)\n",
    "                dfs_Path[next_cell]=curr_Cell\n",
    "        if possition>1:\n",
    "            m.markCells.append(curr_Cell)\n",
    "    final_Path={}\n",
    "    cell=m._goal\n",
    "    while cell!=start_cell:\n",
    "        final_Path[dfs_Path[cell]]=cell\n",
    "        cell=dfs_Path[cell]\n",
    "    return dfs_Seacrh,dfs_Path,final_Path\n",
    "\n"
   ]
  },
  {
   "cell_type": "code",
   "execution_count": 2,
   "id": "36a564ba",
   "metadata": {},
   "outputs": [
    {
     "name": "stdout",
     "output_type": "stream",
     "text": [
      "--- Running Time : 0.0015039443969726562 seconds ---\n",
      "235\n",
      "235\n",
      "114\n"
     ]
    }
   ],
   "source": [
    "if __name__=='__main__':\n",
    "    row=20\n",
    "    col=20\n",
    "    start_x=1\n",
    "    start_y=1\n",
    "    m=maze(row,col)# Change to any size\n",
    "    m.CreateMaze(loopPercent=10)\n",
    "#     m.CreateMaze(start_x,start_y,loadMaze='maze--mul_20_20.csv') \n",
    "    start_time = time.time()\n",
    "    dSeacrh,dfsPath,fwdPath=DepthFirstSearch(m,(row,col)) \n",
    "    exec_time = (time.time() - start_time)\n",
    "    print(\"--- Running Time : %s seconds ---\" % exec_time)\n",
    "    a=agent(m,row,col,goal=(start_x,start_y),footprints=True,shape='square',color=COLOR.green)\n",
    "    b=agent(m,start_x,1,goal=(row,col),footprints=True,filled=True,color=COLOR.cyan)\n",
    "    c=agent(m,row,col,footprints=True,color=COLOR.red,filled=True,shape=\"arrow\")\n",
    "    print(len(dSeacrh))\n",
    "    print(len(dSeacrh))\n",
    "    print(len(fwdPath))\n",
    "    m.tracePath({a:dSeacrh},showMarked=True,delay=10,kill=True)\n",
    "    m.tracePath({b:dfsPath},delay=10)\n",
    "    m.tracePath({c:fwdPath},delay=10)\n",
    "    m.run()"
   ]
  },
  {
   "cell_type": "code",
   "execution_count": null,
   "id": "6d3e2503",
   "metadata": {},
   "outputs": [],
   "source": []
  }
 ],
 "metadata": {
  "kernelspec": {
   "display_name": "Python 3 (ipykernel)",
   "language": "python",
   "name": "python3"
  },
  "language_info": {
   "codemirror_mode": {
    "name": "ipython",
    "version": 3
   },
   "file_extension": ".py",
   "mimetype": "text/x-python",
   "name": "python",
   "nbconvert_exporter": "python",
   "pygments_lexer": "ipython3",
   "version": "3.9.12"
  }
 },
 "nbformat": 4,
 "nbformat_minor": 5
}
