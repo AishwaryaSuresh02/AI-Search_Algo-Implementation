{
 "cells": [
  {
   "cell_type": "code",
   "execution_count": 1,
   "id": "333dfbd6",
   "metadata": {},
   "outputs": [],
   "source": [
    "from pyamaze import maze,agent,textLabel,COLOR\n",
    "import time\n",
    "import numpy as np"
   ]
  },
  {
   "cell_type": "code",
   "execution_count": 2,
   "id": "c7d7f355",
   "metadata": {},
   "outputs": [],
   "source": [
    "def Breath_First_Search(m,start=None):\n",
    "    if start is None:\n",
    "        start=(m.rows,m.cols)\n",
    "    marker = []\n",
    "    marker.append(start)\n",
    "    bfs_Path = {}\n",
    "    explored_cells = [start]\n",
    "    breath_first_Search=[]\n",
    "\n",
    "    while len(marker)>0:\n",
    "        currCell=marker.pop(0)\n",
    "        if currCell==m._goal:\n",
    "            break\n",
    "        for d in 'WNSE':\n",
    "            if m.maze_map[currCell][d]==True:\n",
    "                if d=='E':\n",
    "                    childCell=(currCell[0],currCell[1]+1)\n",
    "                elif d=='W':\n",
    "                    childCell=(currCell[0],currCell[1]-1)\n",
    "                elif d=='S':\n",
    "                    childCell=(currCell[0]+1,currCell[1])\n",
    "                elif d=='N':\n",
    "                    childCell=(currCell[0]-1,currCell[1])\n",
    "                if childCell in explored_cells:\n",
    "                    continue\n",
    "                marker.append(childCell)\n",
    "                explored_cells.append(childCell)\n",
    "                bfs_Path[childCell] = currCell\n",
    "                breath_first_Search.append(childCell)\n",
    "    Result_Path={}\n",
    "    cell=m._goal\n",
    "    while cell!=(m.rows,m.cols):\n",
    "        Result_Path[bfs_Path[cell]]=cell\n",
    "        cell=bfs_Path[cell]\n",
    "    return breath_first_Search,bfs_Path,Result_Path"
   ]
  },
  {
   "cell_type": "code",
   "execution_count": 3,
   "id": "3cbf7067",
   "metadata": {},
   "outputs": [
    {
     "name": "stdout",
     "output_type": "stream",
     "text": [
      "--- Running Time : 0.0039098262786865234 seconds ---\n",
      "search 399\n",
      "len 46\n"
     ]
    }
   ],
   "source": [
    "if __name__=='__main__':\n",
    "    m=maze(20,20)\n",
    "#     m.CreateMaze(loadMaze='maze--mul_20_20.csv')\n",
    "    m.CreateMaze(loopPercent=10)\n",
    "    start_time = time.time()\n",
    "    bSearch,bfsPath,fwdPath=Breath_First_Search(m) \n",
    "    exec_time = (time.time() - start_time)\n",
    "    print(\"--- Running Time : %s seconds ---\" % exec_time)\n",
    "    print(\"search\",len(bSearch))\n",
    "    print(\"len\",len(fwdPath))\n",
    "    a=agent(m,footprints=True,color=COLOR.yellow,shape='square')\n",
    "    b=agent(m,footprints=True,color=COLOR.red,shape='arrow',filled=True)\n",
    "    c=agent(m,1,1,footprints=True,color=COLOR.cyan,shape='square',filled=True,goal=(m.rows,m.cols))\n",
    "    m.tracePath({a:bSearch},delay=10,kill=True)\n",
    "    m.tracePath({c:bfsPath},delay=10)\n",
    "    m.tracePath({b:fwdPath},delay=10)\n",
    "    m.run()"
   ]
  },
  {
   "cell_type": "code",
   "execution_count": null,
   "id": "02e8fe99",
   "metadata": {},
   "outputs": [],
   "source": []
  }
 ],
 "metadata": {
  "kernelspec": {
   "display_name": "Python 3 (ipykernel)",
   "language": "python",
   "name": "python3"
  },
  "language_info": {
   "codemirror_mode": {
    "name": "ipython",
    "version": 3
   },
   "file_extension": ".py",
   "mimetype": "text/x-python",
   "name": "python",
   "nbconvert_exporter": "python",
   "pygments_lexer": "ipython3",
   "version": "3.9.12"
  }
 },
 "nbformat": 4,
 "nbformat_minor": 5
}
