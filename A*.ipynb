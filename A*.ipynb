{
 "cells": [
  {
   "cell_type": "code",
   "execution_count": 1,
   "id": "9ee12674",
   "metadata": {},
   "outputs": [],
   "source": [
    "from pyamaze import maze,agent,COLOR,textLabel\n",
    "from queue import PriorityQueue\n",
    "import time"
   ]
  },
  {
   "cell_type": "code",
   "execution_count": 2,
   "id": "0012bc2a",
   "metadata": {},
   "outputs": [],
   "source": [
    "def heuristics(currentState, finalState):\n",
    "    x_1, y_1 = currentState\n",
    "    x_2, y_2 = finalState\n",
    "    return (abs(x_1 - x_2) + abs(y_1 - y_2))"
   ]
  },
  {
   "cell_type": "code",
   "execution_count": 3,
   "id": "b9ed8159",
   "metadata": {},
   "outputs": [],
   "source": [
    "def a_star_implemetation(m,start_cell=None):\n",
    "    if start_cell is None:\n",
    "        start_cell=(m.rows,m.cols)\n",
    "    frontier = PriorityQueue()\n",
    "    frontier.put((heuristics(start_cell, m._goal), heuristics(start_cell, m._goal), start_cell))\n",
    "    a_starPath = {}\n",
    "    g_score = {row: float(\"inf\") for row in m.grid}\n",
    "    g_score[start_cell] = 0\n",
    "    f_score = {row: float(\"inf\") for row in m.grid}\n",
    "    f_score[start_cell] = heuristics(start_cell, m._goal)\n",
    "    search_Path=[start_cell]\n",
    "    counter=0;\n",
    "    while not frontier.empty():\n",
    "        counter=counter+1\n",
    "        curr_Cell = frontier.get()[2]\n",
    "        search_Path.append(curr_Cell)\n",
    "        if curr_Cell == m._goal:\n",
    "            break        \n",
    "        for dir_path in 'WNSE':\n",
    "            if m.maze_map[curr_Cell][dir_path]==True:\n",
    "                if dir_path=='E':\n",
    "                    child_Cell=(curr_Cell[0],curr_Cell[1]+1)\n",
    "                elif dir_path=='W':\n",
    "                    child_Cell=(curr_Cell[0],curr_Cell[1]-1)\n",
    "                elif dir_path=='N':\n",
    "                    child_Cell=(curr_Cell[0]-1,curr_Cell[1])\n",
    "                elif dir_path=='S':\n",
    "                    child_Cell=(curr_Cell[0]+1,curr_Cell[1])\n",
    "\n",
    "                temp_g_score = g_score[curr_Cell] + 1\n",
    "                temp_f_score = temp_g_score + heuristics(child_Cell, m._goal)\n",
    "\n",
    "                if temp_f_score < f_score[child_Cell]:   \n",
    "                    a_starPath[child_Cell] = curr_Cell\n",
    "                    g_score[child_Cell] = temp_g_score\n",
    "                    f_score[child_Cell] = temp_g_score + heuristics(child_Cell, m._goal)\n",
    "                    frontier.put((f_score[child_Cell], heuristics(child_Cell, m._goal), child_Cell))\n",
    "\n",
    "    print(counter)\n",
    "    finalPath={}\n",
    "    cell=m._goal\n",
    "    while cell!=start_cell:\n",
    "        finalPath[a_starPath[cell]]=cell\n",
    "        cell=a_starPath[cell]\n",
    "    return search_Path,a_starPath,finalPath"
   ]
  },
  {
   "cell_type": "code",
   "execution_count": 4,
   "id": "eb831156",
   "metadata": {},
   "outputs": [
    {
     "name": "stdout",
     "output_type": "stream",
     "text": [
      "207\n",
      "--- Time : 0.0026559829711914062 seconds ---\n",
      "ResultLen= 74\n"
     ]
    }
   ],
   "source": [
    "if __name__=='__main__':\n",
    "    m=maze(20,20)\n",
    "    m.CreateMaze(loopPercent=10)\n",
    "#     m.CreateMaze(loadMaze='maze--mul_20_20.csv')\n",
    "    start_time = time.time()\n",
    "    searchPath,aPath,fwdPath=a_star_implemetation(m)\n",
    "    exec_time = (time.time() - start_time)\n",
    "    print(\"--- Time : %s seconds ---\" % exec_time)\n",
    "    print(\"ResultLen=\",len(fwdPath))\n",
    "    a=agent(m,footprints=True,color=COLOR.blue,filled=True)\n",
    "    b=agent(m,1,1,footprints=True,color=COLOR.yellow,filled=True,goal=(m.rows,m.cols))\n",
    "    c=agent(m,footprints=True,color=COLOR.red,shape='arro')\n",
    "\n",
    "    m.tracePath({a:searchPath},delay=10)\n",
    "    m.tracePath({b:aPath},delay=10)\n",
    "    m.tracePath({c:fwdPath},delay=10)\n",
    "    m.run()\n",
    "\n",
    "\n"
   ]
  },
  {
   "cell_type": "code",
   "execution_count": null,
   "id": "e236f106",
   "metadata": {},
   "outputs": [],
   "source": []
  },
  {
   "cell_type": "code",
   "execution_count": null,
   "id": "c1c040d3",
   "metadata": {},
   "outputs": [],
   "source": []
  },
  {
   "cell_type": "code",
   "execution_count": null,
   "id": "a920e2ae",
   "metadata": {},
   "outputs": [],
   "source": []
  }
 ],
 "metadata": {
  "kernelspec": {
   "display_name": "Python 3 (ipykernel)",
   "language": "python",
   "name": "python3"
  },
  "language_info": {
   "codemirror_mode": {
    "name": "ipython",
    "version": 3
   },
   "file_extension": ".py",
   "mimetype": "text/x-python",
   "name": "python",
   "nbconvert_exporter": "python",
   "pygments_lexer": "ipython3",
   "version": "3.9.12"
  }
 },
 "nbformat": 4,
 "nbformat_minor": 5
}
